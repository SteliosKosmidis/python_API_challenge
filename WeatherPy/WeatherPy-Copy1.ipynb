{
 "cells": [
  {
   "cell_type": "markdown",
   "metadata": {},
   "source": [
    "# WeatherPy\n",
    "\n",
    "---\n",
    "\n",
    "## Starter Code to Generate Random Geographic Coordinates and a List of Cities"
   ]
  },
  {
   "cell_type": "code",
   "execution_count": 1,
   "metadata": {
    "scrolled": true
   },
   "outputs": [],
   "source": [
    "# Dependencies and Setup\n",
    "import matplotlib.pyplot as plt\n",
    "import pandas as pd\n",
    "import numpy as np\n",
    "import requests\n",
    "import time\n",
    "from scipy import stats\n",
    "from scipy.stats import linregress\n",
    "import time\n",
    "\n",
    "from datetime import datetime\n",
    "import scipy.stats as st\n",
    "# Impor the OpenWeatherMap API key\n",
    "from api_keys import weather_api_key\n",
    "\n",
    "# Import citipy to determine the cities based on latitude and longitude\n",
    "from citipy import citipy\n",
    "\n",
    "#Output Data File (CSV)\n",
    "output_data_file = \"output_data/cities.csv\"\n",
    "\n",
    "# Range of latitudes and longitudes\n",
    "lat_range = (-90, 90)\n",
    "lng_range = (-180, 180)"
   ]
  },
  {
   "cell_type": "markdown",
   "metadata": {},
   "source": [
    "### Generate the Cities List by Using the `citipy` Library\n",
    "# Empty list for holding the latitude and longitude combinations\n",
    "lat_lngs = []\n",
    "\n",
    "# Empty list for holding the cities names\n",
    "cities = []\n",
    "\n",
    "# Range of latitudes and longitudes\n",
    "lat_range = (-90, 90)\n",
    "lng_range = (-180, 180)\n",
    "\n",
    "# Create a set of random lat and lng combinations\n",
    "lats = np.random.uniform(lat_range[0], lat_range[1], size=1500)\n",
    "lngs = np.random.uniform(lng_range[0], lng_range[1], size=1500)\n",
    "lat_lngs = zip(lats, lngs)\n",
    "\n",
    "# Identify nearest city for each lat, lng combination\n",
    "for lat_lng in lat_lngs:\n",
    "    city = citipy.nearest_city(lat_lng[0], lat_lng[1]).city_name\n",
    "    \n",
    "    # If the city is unique, then add it to a our cities list\n",
    "    if city not in cities:\n",
    "        cities.append(city)\n",
    "\n",
    "# Print the city count to confirm sufficient count\n",
    "print(f\"Number of cities in the list: {len(cities)}\")"
   ]
  },
  {
   "cell_type": "code",
   "execution_count": 2,
   "metadata": {},
   "outputs": [
    {
     "name": "stdout",
     "output_type": "stream",
     "text": [
      "Number of cities in the list: 602\n"
     ]
    },
    {
     "data": {
      "text/html": [
       "<div>\n",
       "<style scoped>\n",
       "    .dataframe tbody tr th:only-of-type {\n",
       "        vertical-align: middle;\n",
       "    }\n",
       "\n",
       "    .dataframe tbody tr th {\n",
       "        vertical-align: top;\n",
       "    }\n",
       "\n",
       "    .dataframe thead th {\n",
       "        text-align: right;\n",
       "    }\n",
       "</style>\n",
       "<table border=\"1\" class=\"dataframe\">\n",
       "  <thead>\n",
       "    <tr style=\"text-align: right;\">\n",
       "      <th></th>\n",
       "      <th>City</th>\n",
       "      <th>Approx. Latitude</th>\n",
       "      <th>Approx. Longitude</th>\n",
       "    </tr>\n",
       "  </thead>\n",
       "  <tbody>\n",
       "    <tr>\n",
       "      <th>0</th>\n",
       "      <td>pali</td>\n",
       "      <td>25.726588</td>\n",
       "      <td>73.160064</td>\n",
       "    </tr>\n",
       "    <tr>\n",
       "      <th>1</th>\n",
       "      <td>northam</td>\n",
       "      <td>-28.531149</td>\n",
       "      <td>119.501519</td>\n",
       "    </tr>\n",
       "    <tr>\n",
       "      <th>2</th>\n",
       "      <td>adamstown</td>\n",
       "      <td>-54.601873</td>\n",
       "      <td>-127.113845</td>\n",
       "    </tr>\n",
       "    <tr>\n",
       "      <th>3</th>\n",
       "      <td>ushuaia</td>\n",
       "      <td>-84.579728</td>\n",
       "      <td>-63.904030</td>\n",
       "    </tr>\n",
       "    <tr>\n",
       "      <th>4</th>\n",
       "      <td>todos santos</td>\n",
       "      <td>23.464256</td>\n",
       "      <td>-109.948272</td>\n",
       "    </tr>\n",
       "  </tbody>\n",
       "</table>\n",
       "</div>"
      ],
      "text/plain": [
       "           City  Approx. Latitude  Approx. Longitude\n",
       "0          pali         25.726588          73.160064\n",
       "1       northam        -28.531149         119.501519\n",
       "2     adamstown        -54.601873        -127.113845\n",
       "3       ushuaia        -84.579728         -63.904030\n",
       "4  todos santos         23.464256        -109.948272"
      ]
     },
     "execution_count": 2,
     "metadata": {},
     "output_type": "execute_result"
    }
   ],
   "source": [
    "#Generate the Cities List by Using the citipy Library\n",
    "#Empty list for holding the latitude and longitude combinations\n",
    "lat_lngs = []\n",
    "\n",
    "#Empty list for holding the cities names\n",
    "cities = []\n",
    "\n",
    "# Create a set of random lat and lng combinations\n",
    "lats = np.random.uniform(lat_range[0], lat_range[1], size=1500)\n",
    "lngs = np.random.uniform(lng_range[0], lng_range[1], size=1500)\n",
    "lat_lngs = zip(lats, lngs)\n",
    "\n",
    "saved_lats = []\n",
    "saved_longs = []\n",
    "\n",
    "\n",
    "#Identify nearest city for each lat, lng combination\n",
    "for lat_lng in lat_lngs: \n",
    "    city = citipy.nearest_city(lat_lng[0], lat_lng[1]).city_name\n",
    "\n",
    "# If the city is unique, then add it to a our cities list\n",
    "\n",
    "    if city not in cities:\n",
    "        cities.append(city)\n",
    "        saved_lats.append(lat_lng[0])\n",
    "        saved_longs.append(lat_lng[1])\n",
    "#Print the city count to confirm sufficient count\n",
    "print(f\"Number of cities in the list: {len(cities)}\")\n",
    "\n",
    "city_list = pd.DataFrame({\"City\":cities, \"Approx. Latitude\":saved_lats, \"Approx. Longitude\":saved_longs})\n",
    "city_list.head()"
   ]
  },
  {
   "cell_type": "markdown",
   "metadata": {},
   "source": [
    "---"
   ]
  },
  {
   "cell_type": "markdown",
   "metadata": {},
   "source": [
    "## Requirement 1: Create Plots to Showcase the Relationship Between Weather Variables and Latitude\n",
    "\n",
    "### Use the OpenWeatherMap API to retrieve weather data from the cities list generated in the started code"
   ]
  },
  {
   "cell_type": "code",
   "execution_count": 3,
   "metadata": {},
   "outputs": [
    {
     "name": "stdout",
     "output_type": "stream",
     "text": [
      "Beginning Data Retrieval     \n",
      "-----------------------------\n",
      "Processing Record 1 of Set 1 | pali\n",
      "Processing Record 2 of Set 1 | northam\n",
      "Processing Record 3 of Set 1 | adamstown\n",
      "Processing Record 4 of Set 1 | ushuaia\n",
      "Processing Record 5 of Set 1 | todos santos\n",
      "Processing Record 6 of Set 1 | waitangi\n",
      "Processing Record 7 of Set 1 | blackmans bay\n",
      "Processing Record 8 of Set 1 | newman\n",
      "Processing Record 9 of Set 1 | happy valley-goose bay\n",
      "Processing Record 10 of Set 1 | port lincoln\n",
      "Processing Record 11 of Set 1 | hamilton\n",
      "Processing Record 12 of Set 1 | keflavik\n",
      "Processing Record 13 of Set 1 | thunder bay\n",
      "Processing Record 14 of Set 1 | wynyard\n",
      "Processing Record 15 of Set 1 | longyearbyen\n",
      "Processing Record 16 of Set 1 | kirensk\n",
      "Processing Record 17 of Set 1 | aosta\n",
      "Processing Record 18 of Set 1 | lorengau\n",
      "Processing Record 19 of Set 1 | villa bruzual\n",
      "Processing Record 20 of Set 1 | onega\n",
      "Processing Record 21 of Set 1 | west island\n",
      "Processing Record 22 of Set 1 | margate\n",
      "Processing Record 23 of Set 1 | qui nhon\n",
      "Processing Record 24 of Set 1 | santanyi\n",
      "Processing Record 25 of Set 1 | broken hill\n",
      "Processing Record 26 of Set 1 | vila velha\n",
      "Processing Record 27 of Set 1 | thinadhoo\n",
      "Processing Record 28 of Set 1 | papatowai\n",
      "Processing Record 29 of Set 1 | iqaluit\n",
      "Processing Record 30 of Set 1 | sukhobezvodnoye\n",
      "Processing Record 31 of Set 1 | qaqortoq\n",
      "Processing Record 32 of Set 1 | isafjordur\n",
      "Processing Record 33 of Set 1 | lanzhou\n",
      "Processing Record 34 of Set 1 | whitehorse\n",
      "Processing Record 35 of Set 1 | yellowknife\n",
      "Processing Record 36 of Set 1 | tanabe\n",
      "Processing Record 37 of Set 1 | grande prairie\n",
      "Processing Record 38 of Set 1 | anadyr\n",
      "Processing Record 39 of Set 1 | alofi\n",
      "Processing Record 40 of Set 1 | 'ohonua\n",
      "City not found. Skipping...\n",
      "Processing Record 41 of Set 1 | little falls\n",
      "Processing Record 42 of Set 1 | huarmey\n",
      "Processing Record 43 of Set 1 | punta arenas\n",
      "Processing Record 44 of Set 1 | enewetak\n",
      "Processing Record 45 of Set 1 | tiksi\n",
      "Processing Record 46 of Set 1 | port-aux-francais\n",
      "Processing Record 47 of Set 1 | zaozersk\n",
      "Processing Record 48 of Set 1 | kowon-up\n",
      "Processing Record 49 of Set 1 | wailua homesteads\n",
      "Processing Record 50 of Set 1 | grytviken\n",
      "Processing Record 0 of Set 2 | constantia\n",
      "Processing Record 1 of Set 2 | bikin\n",
      "Processing Record 2 of Set 2 | talnakh\n",
      "Processing Record 3 of Set 2 | fale old settlement\n",
      "Processing Record 4 of Set 2 | carolina\n",
      "Processing Record 5 of Set 2 | hami\n",
      "Processing Record 6 of Set 2 | psedakh\n",
      "Processing Record 7 of Set 2 | ulladulla\n",
      "Processing Record 8 of Set 2 | sarykemer\n",
      "Processing Record 9 of Set 2 | hawaiian paradise park\n",
      "Processing Record 10 of Set 2 | gouyave\n",
      "Processing Record 11 of Set 2 | krasnopillya\n",
      "Processing Record 12 of Set 2 | geraldton\n",
      "Processing Record 13 of Set 2 | carnarvon\n",
      "Processing Record 14 of Set 2 | hyesan\n",
      "Processing Record 15 of Set 2 | kavaratti\n",
      "Processing Record 16 of Set 2 | gazojak\n",
      "Processing Record 17 of Set 2 | chul'man\n",
      "Processing Record 18 of Set 2 | quepos\n",
      "Processing Record 19 of Set 2 | cabedelo\n",
      "Processing Record 20 of Set 2 | urangan\n",
      "Processing Record 21 of Set 2 | las lomas\n",
      "Processing Record 22 of Set 2 | tamanrasset\n",
      "Processing Record 23 of Set 2 | avarua\n",
      "Processing Record 24 of Set 2 | nemuro\n",
      "Processing Record 25 of Set 2 | zambezi\n",
      "Processing Record 26 of Set 2 | stanley\n",
      "Processing Record 27 of Set 2 | pitimbu\n",
      "Processing Record 28 of Set 2 | kyren\n",
      "Processing Record 29 of Set 2 | mombasa\n",
      "Processing Record 30 of Set 2 | thompson\n",
      "Processing Record 31 of Set 2 | al bayda'\n",
      "Processing Record 32 of Set 2 | puerto natales\n",
      "Processing Record 33 of Set 2 | charters towers\n",
      "Processing Record 34 of Set 2 | arraial do cabo\n",
      "Processing Record 35 of Set 2 | al khafji\n",
      "Processing Record 36 of Set 2 | chibougamau\n",
      "Processing Record 37 of Set 2 | crane\n",
      "Processing Record 38 of Set 2 | hassi messaoud\n",
      "Processing Record 39 of Set 2 | codrington\n",
      "Processing Record 40 of Set 2 | ivdel'\n",
      "Processing Record 41 of Set 2 | puerto armuelles\n",
      "Processing Record 42 of Set 2 | huasahuasi\n",
      "Processing Record 43 of Set 2 | puerto ayora\n",
      "Processing Record 44 of Set 2 | namibe\n",
      "Processing Record 45 of Set 2 | chachapoyas\n",
      "Processing Record 46 of Set 2 | pimentel\n",
      "Processing Record 47 of Set 2 | mongo\n",
      "Processing Record 48 of Set 2 | bredasdorp\n",
      "Processing Record 49 of Set 2 | edinburgh of the seven seas\n",
      "Processing Record 0 of Set 3 | smarde\n",
      "City not found. Skipping...\n",
      "Processing Record 1 of Set 3 | bignona\n",
      "Processing Record 2 of Set 3 | callao\n",
      "Processing Record 3 of Set 3 | naze\n",
      "Processing Record 4 of Set 3 | invercargill\n",
      "Processing Record 5 of Set 3 | inhambane\n",
      "Processing Record 6 of Set 3 | fort mcmurray\n",
      "Processing Record 7 of Set 3 | remire-montjoly\n",
      "Processing Record 8 of Set 3 | utrik\n",
      "Processing Record 9 of Set 3 | flying fish cove\n",
      "Processing Record 10 of Set 3 | aleksandrovsk-sakhalinskiy\n",
      "Processing Record 11 of Set 3 | plastun\n",
      "Processing Record 12 of Set 3 | tosontsengel\n",
      "Processing Record 13 of Set 3 | springbok\n",
      "Processing Record 14 of Set 3 | salalah\n",
      "Processing Record 15 of Set 3 | weno\n",
      "Processing Record 16 of Set 3 | mabama\n",
      "Processing Record 17 of Set 3 | bethel\n",
      "Processing Record 18 of Set 3 | melekeok village\n",
      "Processing Record 19 of Set 3 | brookings\n",
      "Processing Record 20 of Set 3 | al khums\n",
      "Processing Record 21 of Set 3 | cottage grove\n",
      "Processing Record 22 of Set 3 | saynshand\n",
      "Processing Record 23 of Set 3 | st. john's\n",
      "Processing Record 24 of Set 3 | ribeira grande\n",
      "Processing Record 25 of Set 3 | taixing\n",
      "Processing Record 26 of Set 3 | kimbe\n",
      "Processing Record 27 of Set 3 | itacarambi\n",
      "Processing Record 28 of Set 3 | klaksvik\n",
      "Processing Record 29 of Set 3 | tazovsky\n",
      "Processing Record 30 of Set 3 | margaret river\n",
      "Processing Record 31 of Set 3 | albany\n",
      "Processing Record 32 of Set 3 | tekkali\n",
      "Processing Record 33 of Set 3 | lihue\n",
      "Processing Record 34 of Set 3 | bouafle\n",
      "Processing Record 35 of Set 3 | new norfolk\n",
      "Processing Record 36 of Set 3 | sisimiut\n",
      "Processing Record 37 of Set 3 | cabo san lucas\n",
      "Processing Record 38 of Set 3 | erdenet\n",
      "Processing Record 39 of Set 3 | corn island\n",
      "Processing Record 40 of Set 3 | bubaque\n",
      "Processing Record 41 of Set 3 | isangel\n",
      "Processing Record 42 of Set 3 | saudarkrokur\n",
      "Processing Record 43 of Set 3 | aasiaat\n",
      "Processing Record 44 of Set 3 | college\n",
      "Processing Record 45 of Set 3 | aleksin\n",
      "Processing Record 46 of Set 3 | villanueva\n",
      "Processing Record 47 of Set 3 | manismata\n",
      "Processing Record 48 of Set 3 | as sulayyil\n",
      "Processing Record 49 of Set 3 | kununurra\n",
      "Processing Record 0 of Set 4 | antigonish\n",
      "Processing Record 1 of Set 4 | nova sintra\n",
      "Processing Record 2 of Set 4 | havana\n",
      "Processing Record 3 of Set 4 | revda\n",
      "Processing Record 4 of Set 4 | khalkhal\n",
      "Processing Record 5 of Set 4 | whakatane\n",
      "Processing Record 6 of Set 4 | sao raimundo nonato\n",
      "Processing Record 7 of Set 4 | petropavlovsk-kamchatsky\n",
      "Processing Record 8 of Set 4 | egilsstadir\n",
      "Processing Record 9 of Set 4 | kachia\n",
      "Processing Record 10 of Set 4 | severo-yeniseyskiy\n",
      "Processing Record 11 of Set 4 | kodiak\n",
      "Processing Record 12 of Set 4 | taiohae\n",
      "City not found. Skipping...\n",
      "Processing Record 13 of Set 4 | zouerate\n",
      "Processing Record 14 of Set 4 | fortuna\n",
      "Processing Record 15 of Set 4 | cole harbour\n",
      "Processing Record 16 of Set 4 | adigrat\n",
      "Processing Record 17 of Set 4 | kapa'a\n",
      "Processing Record 18 of Set 4 | olonkinbyen\n",
      "Processing Record 19 of Set 4 | la passe\n",
      "Processing Record 20 of Set 4 | sosnovo-ozerskoye\n",
      "Processing Record 21 of Set 4 | kiunga\n",
      "Processing Record 22 of Set 4 | dzhambeyty\n",
      "Processing Record 23 of Set 4 | usinsk\n",
      "Processing Record 24 of Set 4 | sinabang\n",
      "Processing Record 25 of Set 4 | fremont\n",
      "Processing Record 26 of Set 4 | niafunke\n",
      "Processing Record 27 of Set 4 | labytnangi\n",
      "Processing Record 28 of Set 4 | queenstown\n",
      "Processing Record 29 of Set 4 | xuanzhou\n",
      "Processing Record 30 of Set 4 | plouzane\n",
      "Processing Record 31 of Set 4 | bhimunipatnam\n",
      "Processing Record 32 of Set 4 | plock\n",
      "Processing Record 33 of Set 4 | chonchi\n",
      "Processing Record 34 of Set 4 | na wa\n",
      "Processing Record 35 of Set 4 | winnemucca\n",
      "Processing Record 36 of Set 4 | georgetown\n",
      "Processing Record 37 of Set 4 | miyako\n",
      "Processing Record 38 of Set 4 | lecanto\n",
      "Processing Record 39 of Set 4 | guerrero negro\n",
      "Processing Record 40 of Set 4 | port mathurin\n",
      "Processing Record 41 of Set 4 | bilibino\n"
     ]
    },
    {
     "name": "stdout",
     "output_type": "stream",
     "text": [
      "Processing Record 42 of Set 4 | afaahiti\n",
      "Processing Record 43 of Set 4 | ungsang-nodongjagu\n",
      "Processing Record 44 of Set 4 | guaratinga\n",
      "Processing Record 45 of Set 4 | sitka\n",
      "Processing Record 46 of Set 4 | talcahuano\n",
      "Processing Record 47 of Set 4 | ulanhot\n",
      "Processing Record 48 of Set 4 | lambunao\n",
      "Processing Record 49 of Set 4 | narasannapeta\n",
      "Processing Record 0 of Set 5 | twon-brass\n",
      "Processing Record 1 of Set 5 | jinghong\n",
      "Processing Record 2 of Set 5 | san antonio de pale\n",
      "Processing Record 3 of Set 5 | fada\n",
      "Processing Record 4 of Set 5 | port elizabeth\n",
      "Processing Record 5 of Set 5 | faya-largeau\n",
      "Processing Record 6 of Set 5 | serov\n",
      "Processing Record 7 of Set 5 | aral\n",
      "Processing Record 8 of Set 5 | port saint john's\n",
      "Processing Record 9 of Set 5 | soure\n",
      "Processing Record 10 of Set 5 | vila franca do campo\n",
      "Processing Record 11 of Set 5 | ribeira brava\n",
      "Processing Record 12 of Set 5 | luderitz\n",
      "Processing Record 13 of Set 5 | papao\n",
      "Processing Record 14 of Set 5 | saipan\n",
      "Processing Record 15 of Set 5 | romanovo\n",
      "Processing Record 16 of Set 5 | aioun\n",
      "Processing Record 17 of Set 5 | kazalinsk\n",
      "City not found. Skipping...\n",
      "Processing Record 18 of Set 5 | atafu village\n",
      "Processing Record 19 of Set 5 | ahau\n",
      "City not found. Skipping...\n",
      "Processing Record 20 of Set 5 | kaoma\n",
      "Processing Record 21 of Set 5 | tynda\n",
      "Processing Record 22 of Set 5 | ankazoabo\n",
      "Processing Record 23 of Set 5 | bodo\n",
      "Processing Record 24 of Set 5 | stiens\n",
      "Processing Record 25 of Set 5 | al mawsil al jadidah\n",
      "Processing Record 26 of Set 5 | nowshahr\n",
      "Processing Record 27 of Set 5 | cidreira\n",
      "Processing Record 28 of Set 5 | matoury\n",
      "Processing Record 29 of Set 5 | nuuk\n",
      "Processing Record 30 of Set 5 | tottori\n",
      "Processing Record 31 of Set 5 | san fernando de apure\n",
      "Processing Record 32 of Set 5 | yichun\n",
      "Processing Record 33 of Set 5 | udachny\n",
      "Processing Record 34 of Set 5 | ha giang\n",
      "Processing Record 35 of Set 5 | gantang\n",
      "Processing Record 36 of Set 5 | hanzhong\n",
      "Processing Record 37 of Set 5 | dryden\n",
      "Processing Record 38 of Set 5 | vernon\n",
      "Processing Record 39 of Set 5 | kavieng\n",
      "Processing Record 40 of Set 5 | fort bragg\n",
      "Processing Record 41 of Set 5 | port macquarie\n",
      "Processing Record 42 of Set 5 | klyuchi\n",
      "Processing Record 43 of Set 5 | rongelap\n",
      "Processing Record 44 of Set 5 | san ignacio de velasco\n",
      "Processing Record 45 of Set 5 | ko lanta\n",
      "Processing Record 46 of Set 5 | lerwick\n",
      "Processing Record 47 of Set 5 | vorgashor\n",
      "Processing Record 48 of Set 5 | zhangjiajie\n",
      "Processing Record 49 of Set 5 | fort st. john\n",
      "Processing Record 0 of Set 6 | nieuw amsterdam\n",
      "Processing Record 1 of Set 6 | kingsbridge\n",
      "Processing Record 2 of Set 6 | susuman\n",
      "Processing Record 3 of Set 6 | prince rupert\n",
      "Processing Record 4 of Set 6 | borogontsy\n",
      "Processing Record 5 of Set 6 | san patricio\n",
      "Processing Record 6 of Set 6 | dudinka\n",
      "Processing Record 7 of Set 6 | xining\n",
      "Processing Record 8 of Set 6 | iskateley\n",
      "Processing Record 9 of Set 6 | floro\n",
      "Processing Record 10 of Set 6 | la paz\n",
      "Processing Record 11 of Set 6 | kibre mengist\n",
      "Processing Record 12 of Set 6 | gornyak\n",
      "Processing Record 13 of Set 6 | aras-asan\n",
      "Processing Record 14 of Set 6 | hermanus\n",
      "Processing Record 15 of Set 6 | pyay\n",
      "Processing Record 16 of Set 6 | ola\n",
      "Processing Record 17 of Set 6 | barranca\n",
      "Processing Record 18 of Set 6 | tutayev\n",
      "Processing Record 19 of Set 6 | deder\n",
      "Processing Record 20 of Set 6 | chyhyryn\n",
      "Processing Record 21 of Set 6 | louis trichardt\n",
      "Processing Record 22 of Set 6 | puerto san carlos\n",
      "City not found. Skipping...\n",
      "Processing Record 23 of Set 6 | ouellah\n",
      "City not found. Skipping...\n",
      "Processing Record 24 of Set 6 | al burayqah\n",
      "Processing Record 25 of Set 6 | antsohihy\n",
      "Processing Record 26 of Set 6 | pierre\n",
      "Processing Record 27 of Set 6 | lensk\n",
      "Processing Record 28 of Set 6 | san juan\n",
      "Processing Record 29 of Set 6 | zhangjiakou shi xuanhua qu\n",
      "Processing Record 30 of Set 6 | hithadhoo\n",
      "Processing Record 31 of Set 6 | polyarnyy\n",
      "Processing Record 32 of Set 6 | peremyshlyany\n",
      "Processing Record 33 of Set 6 | ilulissat\n",
      "Processing Record 34 of Set 6 | chui\n",
      "Processing Record 35 of Set 6 | la gi\n",
      "Processing Record 36 of Set 6 | kristinestad\n",
      "Processing Record 37 of Set 6 | hobyo\n",
      "Processing Record 38 of Set 6 | derbent\n",
      "Processing Record 39 of Set 6 | sault ste. marie\n",
      "Processing Record 40 of Set 6 | yuzhno-kurilsk\n",
      "Processing Record 41 of Set 6 | bebedja\n",
      "Processing Record 42 of Set 6 | saint-pierre\n",
      "Processing Record 43 of Set 6 | garachico\n",
      "Processing Record 44 of Set 6 | fisterra\n",
      "Processing Record 45 of Set 6 | livny\n",
      "Processing Record 46 of Set 6 | brokopondo\n",
      "Processing Record 47 of Set 6 | kroya\n",
      "Processing Record 48 of Set 6 | hillvue\n",
      "Processing Record 49 of Set 6 | curillo\n",
      "Processing Record 0 of Set 7 | ust-nera\n",
      "Processing Record 1 of Set 7 | eagle point\n",
      "Processing Record 2 of Set 7 | gobabis\n",
      "Processing Record 3 of Set 7 | akureyri\n",
      "Processing Record 4 of Set 7 | marsa alam\n",
      "Processing Record 5 of Set 7 | haiku-pauwela\n",
      "Processing Record 6 of Set 7 | kerman\n",
      "Processing Record 7 of Set 7 | olgii\n",
      "City not found. Skipping...\n",
      "Processing Record 8 of Set 7 | horta\n",
      "Processing Record 9 of Set 7 | dakhla\n",
      "Processing Record 10 of Set 7 | santana\n",
      "Processing Record 11 of Set 7 | hasaki\n",
      "Processing Record 12 of Set 7 | nouadhibou\n",
      "Processing Record 13 of Set 7 | krasnyy kholm\n",
      "Processing Record 14 of Set 7 | tokoroa\n",
      "Processing Record 15 of Set 7 | cable beach\n",
      "City not found. Skipping...\n",
      "Processing Record 16 of Set 7 | lompoc\n",
      "Processing Record 17 of Set 7 | novo aripuana\n",
      "Processing Record 18 of Set 7 | kapuskasing\n",
      "Processing Record 19 of Set 7 | taoudenni\n",
      "Processing Record 20 of Set 7 | igarka\n",
      "Processing Record 21 of Set 7 | atherton\n",
      "Processing Record 22 of Set 7 | magadan\n",
      "Processing Record 23 of Set 7 | benghazi\n",
      "Processing Record 24 of Set 7 | kirakira\n",
      "Processing Record 25 of Set 7 | chagoda\n",
      "Processing Record 26 of Set 7 | izamal\n",
      "Processing Record 27 of Set 7 | tonekabon\n",
      "Processing Record 28 of Set 7 | acton vale\n",
      "Processing Record 29 of Set 7 | toamasina\n",
      "Processing Record 30 of Set 7 | santa elena de uairen\n",
      "Processing Record 31 of Set 7 | chamical\n",
      "Processing Record 32 of Set 7 | vilyuchinsk\n",
      "Processing Record 33 of Set 7 | taroa\n",
      "Processing Record 34 of Set 7 | baise city\n",
      "Processing Record 35 of Set 7 | muromtsevo\n",
      "Processing Record 36 of Set 7 | tranovaho\n",
      "City not found. Skipping...\n",
      "Processing Record 37 of Set 7 | ellsworth\n",
      "Processing Record 38 of Set 7 | san sebastian de la gomera\n",
      "Processing Record 39 of Set 7 | yanykurgan\n",
      "Processing Record 40 of Set 7 | minas de marcona\n",
      "Processing Record 41 of Set 7 | guigang\n",
      "Processing Record 42 of Set 7 | luganville\n",
      "Processing Record 43 of Set 7 | kulia village\n",
      "City not found. Skipping...\n",
      "Processing Record 44 of Set 7 | meadow lake\n",
      "Processing Record 45 of Set 7 | rikaze\n",
      "Processing Record 46 of Set 7 | plattsburgh\n",
      "Processing Record 47 of Set 7 | cannonvale\n",
      "Processing Record 48 of Set 7 | jamestown\n",
      "Processing Record 49 of Set 7 | kachug\n",
      "Processing Record 0 of Set 8 | lebu\n",
      "Processing Record 1 of Set 8 | colonia\n",
      "Processing Record 2 of Set 8 | indramayu\n",
      "Processing Record 3 of Set 8 | vingt cinq\n",
      "City not found. Skipping...\n",
      "Processing Record 4 of Set 8 | abadeh\n",
      "Processing Record 5 of Set 8 | walvis bay\n",
      "Processing Record 6 of Set 8 | taltal\n",
      "Processing Record 7 of Set 8 | puerto baquerizo moreno\n",
      "Processing Record 8 of Set 8 | idrinskoye\n",
      "Processing Record 9 of Set 8 | nogliki\n",
      "Processing Record 10 of Set 8 | ibshaway\n",
      "Processing Record 11 of Set 8 | senanga\n",
      "Processing Record 12 of Set 8 | ocean shores\n",
      "Processing Record 13 of Set 8 | erenhot\n",
      "Processing Record 14 of Set 8 | cooper's town\n",
      "Processing Record 15 of Set 8 | uturoa\n",
      "Processing Record 16 of Set 8 | holualoa\n",
      "Processing Record 17 of Set 8 | al jahra'\n",
      "Processing Record 18 of Set 8 | arsen'yev\n",
      "Processing Record 19 of Set 8 | barkly west\n",
      "Processing Record 20 of Set 8 | vorkuta\n",
      "Processing Record 21 of Set 8 | yelizovo\n",
      "Processing Record 22 of Set 8 | inderbor\n",
      "Processing Record 23 of Set 8 | port alfred\n",
      "Processing Record 24 of Set 8 | tralee\n",
      "Processing Record 25 of Set 8 | yaren\n",
      "Processing Record 26 of Set 8 | toyooka\n",
      "Processing Record 27 of Set 8 | tadine\n",
      "Processing Record 28 of Set 8 | poteau\n",
      "Processing Record 29 of Set 8 | qianzhou\n",
      "Processing Record 30 of Set 8 | calama\n",
      "Processing Record 31 of Set 8 | shangqiu\n",
      "Processing Record 32 of Set 8 | karratha\n"
     ]
    },
    {
     "name": "stdout",
     "output_type": "stream",
     "text": [
      "Processing Record 33 of Set 8 | ugoofaaru\n",
      "Processing Record 34 of Set 8 | antofagasta\n",
      "Processing Record 35 of Set 8 | kingston\n",
      "Processing Record 36 of Set 8 | yazykovo\n",
      "Processing Record 37 of Set 8 | balykshi\n",
      "Processing Record 38 of Set 8 | sarmiento\n",
      "Processing Record 39 of Set 8 | dubbo\n",
      "Processing Record 40 of Set 8 | laguna\n",
      "Processing Record 41 of Set 8 | alaghsas\n",
      "Processing Record 42 of Set 8 | portland\n",
      "Processing Record 43 of Set 8 | kogalym\n",
      "Processing Record 44 of Set 8 | cuatro cienegas de carranza\n",
      "Processing Record 45 of Set 8 | itoman\n",
      "Processing Record 46 of Set 8 | praia da vitoria\n",
      "Processing Record 47 of Set 8 | labasa\n",
      "Processing Record 48 of Set 8 | belle plaine\n",
      "Processing Record 49 of Set 8 | aykhal\n",
      "Processing Record 0 of Set 9 | timimoun\n",
      "Processing Record 1 of Set 9 | korla\n",
      "Processing Record 2 of Set 9 | turpan\n",
      "Processing Record 3 of Set 9 | saldanha\n",
      "Processing Record 4 of Set 9 | lincoln city\n",
      "Processing Record 5 of Set 9 | tura\n",
      "Processing Record 6 of Set 9 | iwaki\n",
      "Processing Record 7 of Set 9 | sukumo\n",
      "Processing Record 8 of Set 9 | hammerfest\n",
      "Processing Record 9 of Set 9 | alesund\n",
      "Processing Record 10 of Set 9 | miramichi\n",
      "Processing Record 11 of Set 9 | acapulco de juarez\n",
      "Processing Record 12 of Set 9 | hole narsipur\n",
      "Processing Record 13 of Set 9 | nadym\n",
      "Processing Record 14 of Set 9 | el-tor\n",
      "Processing Record 15 of Set 9 | ouadda\n",
      "Processing Record 16 of Set 9 | tolanaro\n",
      "Processing Record 17 of Set 9 | santa cruz\n",
      "Processing Record 18 of Set 9 | hailin\n",
      "Processing Record 19 of Set 9 | astara\n",
      "Processing Record 20 of Set 9 | bahia de caraquez\n",
      "Processing Record 21 of Set 9 | pucon\n",
      "Processing Record 22 of Set 9 | postmasburg\n",
      "City not found. Skipping...\n",
      "Processing Record 23 of Set 9 | ghanzi\n",
      "Processing Record 24 of Set 9 | at taraf\n",
      "Processing Record 25 of Set 9 | ta`u\n",
      "Processing Record 26 of Set 9 | tanki leendert\n",
      "City not found. Skipping...\n",
      "Processing Record 27 of Set 9 | miguel bocanegra\n",
      "Processing Record 28 of Set 9 | belyy yar\n",
      "Processing Record 29 of Set 9 | east london\n",
      "Processing Record 30 of Set 9 | shache\n",
      "Processing Record 31 of Set 9 | mili\n",
      "Processing Record 32 of Set 9 | nantucket\n",
      "Processing Record 33 of Set 9 | tobi village\n",
      "City not found. Skipping...\n",
      "Processing Record 34 of Set 9 | frontera\n",
      "Processing Record 35 of Set 9 | razole\n",
      "Processing Record 36 of Set 9 | cacule\n",
      "Processing Record 37 of Set 9 | monrovia\n",
      "Processing Record 38 of Set 9 | isle of lewis\n",
      "City not found. Skipping...\n",
      "Processing Record 39 of Set 9 | sastobe\n",
      "Processing Record 40 of Set 9 | urengoy\n",
      "Processing Record 41 of Set 9 | cadale\n",
      "Processing Record 42 of Set 9 | bengkulu\n",
      "Processing Record 43 of Set 9 | choibalsan\n",
      "Processing Record 44 of Set 9 | inarajan village\n",
      "Processing Record 45 of Set 9 | novyy urengoy\n",
      "Processing Record 46 of Set 9 | tanjung selor\n",
      "City not found. Skipping...\n",
      "Processing Record 47 of Set 9 | broome\n",
      "Processing Record 48 of Set 9 | ijuw\n",
      "City not found. Skipping...\n",
      "Processing Record 49 of Set 9 | lyudinovo\n",
      "Processing Record 0 of Set 10 | bayanhongor\n",
      "Processing Record 1 of Set 10 | sao joao da barra\n",
      "Processing Record 2 of Set 10 | mount gambier\n",
      "Processing Record 3 of Set 10 | la almunia de dona godina\n",
      "Processing Record 4 of Set 10 | khoyniki\n",
      "Processing Record 5 of Set 10 | pibor\n",
      "City not found. Skipping...\n",
      "Processing Record 6 of Set 10 | ciudad cerralvo\n",
      "City not found. Skipping...\n",
      "Processing Record 7 of Set 10 | veinticinco de mayo\n",
      "Processing Record 8 of Set 10 | saint-philippe\n",
      "Processing Record 9 of Set 10 | casamicciola terme\n",
      "Processing Record 10 of Set 10 | waiuku\n",
      "Processing Record 11 of Set 10 | mejit\n",
      "Processing Record 12 of Set 10 | dunedin\n",
      "Processing Record 13 of Set 10 | mar del plata\n",
      "Processing Record 14 of Set 10 | bikenibeu village\n",
      "Processing Record 15 of Set 10 | shalqar\n",
      "Processing Record 16 of Set 10 | vadso\n",
      "Processing Record 17 of Set 10 | roosevelt\n",
      "Processing Record 18 of Set 10 | el calafate\n",
      "Processing Record 19 of Set 10 | kerikeri\n",
      "Processing Record 20 of Set 10 | wetumpka\n",
      "Processing Record 21 of Set 10 | aitape\n",
      "Processing Record 22 of Set 10 | santo domingo suchitepequez\n",
      "Processing Record 23 of Set 10 | san jose de lourdes\n",
      "City not found. Skipping...\n",
      "Processing Record 24 of Set 10 | port augusta\n",
      "Processing Record 25 of Set 10 | bel ombre\n",
      "Processing Record 26 of Set 10 | desarmes\n",
      "Processing Record 27 of Set 10 | axim\n",
      "Processing Record 28 of Set 10 | hun\n",
      "Processing Record 29 of Set 10 | nelson bay\n",
      "Processing Record 30 of Set 10 | la'ie\n",
      "Processing Record 31 of Set 10 | marau\n",
      "Processing Record 32 of Set 10 | sinnar\n",
      "Processing Record 33 of Set 10 | tsiombe\n",
      "Processing Record 34 of Set 10 | ascencion de guarayos\n",
      "City not found. Skipping...\n",
      "Processing Record 35 of Set 10 | badger\n",
      "Processing Record 36 of Set 10 | kisangani\n",
      "Processing Record 37 of Set 10 | dean funes\n",
      "Processing Record 38 of Set 10 | muroto-misakicho\n",
      "Processing Record 39 of Set 10 | stornoway\n",
      "Processing Record 40 of Set 10 | bilopillya\n",
      "Processing Record 41 of Set 10 | grimmen\n",
      "Processing Record 42 of Set 10 | lushun\n",
      "Processing Record 43 of Set 10 | atasu\n",
      "Processing Record 44 of Set 10 | bamboo flat\n",
      "Processing Record 45 of Set 10 | itati\n",
      "Processing Record 46 of Set 10 | maxixe\n",
      "Processing Record 47 of Set 10 | lepsy\n",
      "Processing Record 48 of Set 10 | kifri\n",
      "Processing Record 49 of Set 10 | nagqu\n",
      "Processing Record 0 of Set 11 | terenozek\n",
      "Processing Record 1 of Set 11 | sao jose da coroa grande\n",
      "Processing Record 2 of Set 11 | kone\n",
      "Processing Record 3 of Set 11 | salacgriva\n",
      "Processing Record 4 of Set 11 | leh\n",
      "Processing Record 5 of Set 11 | gopalpur\n",
      "Processing Record 6 of Set 11 | inirida\n",
      "Processing Record 7 of Set 11 | hilo\n",
      "Processing Record 8 of Set 11 | gadzhiyevo\n",
      "Processing Record 9 of Set 11 | coahuayana de hidalgo\n",
      "Processing Record 10 of Set 11 | uberaba\n",
      "Processing Record 11 of Set 11 | kirkland lake\n",
      "Processing Record 12 of Set 11 | shingu\n",
      "Processing Record 13 of Set 11 | alice springs\n",
      "Processing Record 14 of Set 11 | post\n",
      "Processing Record 15 of Set 11 | nizhneangarsk\n",
      "Processing Record 16 of Set 11 | saint-francois\n",
      "Processing Record 17 of Set 11 | sandnessjoen\n",
      "Processing Record 18 of Set 11 | ostrov\n",
      "Processing Record 19 of Set 11 | okhotsk\n",
      "Processing Record 20 of Set 11 | urzhar\n",
      "Processing Record 21 of Set 11 | madimba\n",
      "Processing Record 22 of Set 11 | muli\n",
      "Processing Record 23 of Set 11 | massawa\n",
      "Processing Record 24 of Set 11 | basco\n",
      "Processing Record 25 of Set 11 | cognac\n",
      "Processing Record 26 of Set 11 | chemodanovka\n",
      "Processing Record 27 of Set 11 | eregli\n",
      "Processing Record 28 of Set 11 | kailua-kona\n",
      "Processing Record 29 of Set 11 | valle de la pascua\n",
      "Processing Record 30 of Set 11 | taro\n",
      "Processing Record 31 of Set 11 | ketchikan\n",
      "Processing Record 32 of Set 11 | kokpekty\n",
      "Processing Record 33 of Set 11 | port hedland\n",
      "Processing Record 34 of Set 11 | rio bueno\n",
      "Processing Record 35 of Set 11 | lubao\n",
      "Processing Record 36 of Set 11 | camocim\n",
      "Processing Record 37 of Set 11 | nova vicosa\n",
      "Processing Record 38 of Set 11 | akonolinga\n",
      "Processing Record 39 of Set 11 | la mira\n",
      "Processing Record 40 of Set 11 | uvalde\n",
      "Processing Record 41 of Set 11 | khorixas\n",
      "Processing Record 42 of Set 11 | moussoro\n",
      "Processing Record 43 of Set 11 | berezovyy\n",
      "Processing Record 44 of Set 11 | maralal\n",
      "Processing Record 45 of Set 11 | katsuura\n",
      "Processing Record 46 of Set 11 | starovelichkovskaya\n",
      "Processing Record 47 of Set 11 | murrells inlet\n",
      "Processing Record 48 of Set 11 | newquay\n",
      "Processing Record 49 of Set 11 | qaisumah\n",
      "Processing Record 0 of Set 12 | cargados carajos\n",
      "City not found. Skipping...\n",
      "Processing Record 1 of Set 12 | malvan\n",
      "Processing Record 2 of Set 12 | golden gate\n",
      "Processing Record 3 of Set 12 | caister-on-sea\n",
      "Processing Record 4 of Set 12 | fayroz koh\n",
      "Processing Record 5 of Set 12 | corralejo\n",
      "Processing Record 6 of Set 12 | ancud\n",
      "Processing Record 7 of Set 12 | kolonia town\n",
      "Processing Record 8 of Set 12 | al bardiyah\n",
      "Processing Record 9 of Set 12 | garissa\n",
      "Processing Record 10 of Set 12 | viligili\n",
      "City not found. Skipping...\n",
      "Processing Record 11 of Set 12 | brisas de zicatela\n",
      "Processing Record 12 of Set 12 | padangsidempuan\n",
      "Processing Record 13 of Set 12 | xilin hot\n",
      "Processing Record 14 of Set 12 | flin flon\n",
      "Processing Record 15 of Set 12 | krumovgrad\n",
      "Processing Record 16 of Set 12 | nar'yan-mar\n"
     ]
    },
    {
     "name": "stdout",
     "output_type": "stream",
     "text": [
      "Processing Record 17 of Set 12 | tepecoacuilco de trujano\n",
      "Processing Record 18 of Set 12 | betio village\n",
      "Processing Record 19 of Set 12 | porto novo\n",
      "Processing Record 20 of Set 12 | obo\n",
      "Processing Record 21 of Set 12 | calbayog city\n",
      "Processing Record 22 of Set 12 | ambalangoda\n",
      "Processing Record 23 of Set 12 | guiuan\n",
      "Processing Record 24 of Set 12 | gulf shores\n",
      "Processing Record 25 of Set 12 | kataragama\n",
      "City not found. Skipping...\n",
      "Processing Record 26 of Set 12 | ati\n",
      "Processing Record 27 of Set 12 | bonthe\n",
      "Processing Record 28 of Set 12 | fuvahmulah\n",
      "City not found. Skipping...\n",
      "Processing Record 29 of Set 12 | paros\n",
      "Processing Record 30 of Set 12 | uvel'skiy\n",
      "Processing Record 31 of Set 12 | dompu\n",
      "Processing Record 32 of Set 12 | aljezur\n",
      "Processing Record 33 of Set 12 | mizdah\n",
      "Processing Record 34 of Set 12 | skeldon\n",
      "Processing Record 35 of Set 12 | hadibu\n",
      "Processing Record 36 of Set 12 | tongren\n",
      "Processing Record 37 of Set 12 | san julian\n",
      "Processing Record 38 of Set 12 | karyes\n",
      "Processing Record 39 of Set 12 | malpica\n",
      "Processing Record 40 of Set 12 | mazagao\n",
      "Processing Record 41 of Set 12 | al ghayzah\n",
      "Processing Record 42 of Set 12 | san luis de la loma\n",
      "Processing Record 43 of Set 12 | vernal\n",
      "Processing Record 44 of Set 12 | dalnegorsk\n",
      "Processing Record 45 of Set 12 | chiang kham\n",
      "Processing Record 46 of Set 12 | puerto san jose\n",
      "Processing Record 47 of Set 12 | bheramara\n",
      "Processing Record 48 of Set 12 | karachev\n",
      "Processing Record 49 of Set 12 | khombole\n",
      "Processing Record 0 of Set 13 | mirpur sakro\n",
      "Processing Record 1 of Set 13 | mckinleyville\n",
      "-----------------------------\n",
      "Data Retrieval Complete      \n",
      "-----------------------------\n"
     ]
    }
   ],
   "source": [
    "# Set the API base URL\n",
    "url = \"http://api.openweathermap.org/data/2.5/weather?\"\n",
    "units = \"imperial\"\n",
    "\n",
    "# Define an empty list to fetch the weather data for each city\n",
    "city_data = []\n",
    "\n",
    "# Print to logger\n",
    "print(\"Beginning Data Retrieval     \")\n",
    "print(\"-----------------------------\")\n",
    "\n",
    "# Create counters\n",
    "record_count = 1\n",
    "set_count = 1\n",
    "\n",
    "# Loop through all the cities in our list to fetch weather data\n",
    "for i, city in enumerate(cities):\n",
    "        \n",
    "    # Group cities in sets of 50 for logging purposes\n",
    "    if (i % 50 == 0 and i >= 50):\n",
    "        set_count += 1\n",
    "        record_count = 0\n",
    "\n",
    "    # Create endpoint URL with each city\n",
    "    city_url = f\"{url}q={city}&units={units}&appid=77a1b55fe8ca0310457bae0c85fcf767\"  # Replace YOUR_API_KEY with your actual API key\n",
    "    \n",
    "    # Log the url, record, and set numbers\n",
    "    print(\"Processing Record %s of Set %s | %s\" % (record_count, set_count, city))\n",
    "\n",
    "    # Add 1 to the record count\n",
    "    record_count += 1\n",
    "\n",
    "    # Run an API request for each of the cities\n",
    "    try:\n",
    "        import requests\n",
    "\n",
    "        # Send GET request to OpenWeatherMap API\n",
    "        response = requests.get(city_url)\n",
    "        \n",
    "        # Parse the JSON and retrieve data\n",
    "        city_weather = response.json()\n",
    "\n",
    "        # Parse out latitude, longitude, max temp, humidity, cloudiness, wind speed, country, and date\n",
    "        city_lat = city_weather['coord']['lat']\n",
    "        city_lng = city_weather['coord']['lon']\n",
    "        city_max_temp = city_weather['main']['temp_max']\n",
    "        city_humidity = city_weather['main']['humidity']\n",
    "        city_clouds = city_weather['clouds']['all']\n",
    "        city_wind = city_weather['wind']['speed']\n",
    "        city_country = city_weather['sys']['country']\n",
    "        city_date = city_weather['dt']\n",
    "\n",
    "        # Append the City information into city_data list\n",
    "        city_data.append({\"City\": city, \n",
    "                          \"Lat\": city_lat, \n",
    "                          \"Lng\": city_lng, \n",
    "                          \"Max Temp\": city_max_temp,\n",
    "                          \"Humidity\": city_humidity,\n",
    "                          \"Cloudiness\": city_clouds,\n",
    "                          \"Wind Speed\": city_wind,\n",
    "                          \"Country\": city_country,\n",
    "                          \"Date\": city_date})\n",
    "\n",
    "    # If an error is experienced, skip the city\n",
    "    except:\n",
    "        print(\"City not found. Skipping...\")\n",
    "        pass\n",
    "              \n",
    "# Indicate that Data Loading is complete \n",
    "print(\"-----------------------------\")\n",
    "print(\"Data Retrieval Complete      \")\n",
    "print(\"-----------------------------\")\n"
   ]
  },
  {
   "cell_type": "code",
   "execution_count": 4,
   "metadata": {},
   "outputs": [
    {
     "data": {
      "text/plain": [
       "City          576\n",
       "Cloudiness    576\n",
       "Country       576\n",
       "Date          576\n",
       "Humidity      576\n",
       "Lat           576\n",
       "Lng           576\n",
       "Max Temp      576\n",
       "Wind Speed    576\n",
       "dtype: int64"
      ]
     },
     "execution_count": 4,
     "metadata": {},
     "output_type": "execute_result"
    }
   ],
   "source": [
    "# Convert the cities weather data into a Pandas DataFrame\n",
    "city_data_df =pd.DataFrame(city_data)\n",
    "\n",
    "# Show Record Count\n",
    "city_data_df.count()"
   ]
  },
  {
   "cell_type": "code",
   "execution_count": 5,
   "metadata": {},
   "outputs": [
    {
     "data": {
      "text/html": [
       "<div>\n",
       "<style scoped>\n",
       "    .dataframe tbody tr th:only-of-type {\n",
       "        vertical-align: middle;\n",
       "    }\n",
       "\n",
       "    .dataframe tbody tr th {\n",
       "        vertical-align: top;\n",
       "    }\n",
       "\n",
       "    .dataframe thead th {\n",
       "        text-align: right;\n",
       "    }\n",
       "</style>\n",
       "<table border=\"1\" class=\"dataframe\">\n",
       "  <thead>\n",
       "    <tr style=\"text-align: right;\">\n",
       "      <th></th>\n",
       "      <th>City</th>\n",
       "      <th>Cloudiness</th>\n",
       "      <th>Country</th>\n",
       "      <th>Date</th>\n",
       "      <th>Humidity</th>\n",
       "      <th>Lat</th>\n",
       "      <th>Lng</th>\n",
       "      <th>Max Temp</th>\n",
       "      <th>Wind Speed</th>\n",
       "    </tr>\n",
       "  </thead>\n",
       "  <tbody>\n",
       "    <tr>\n",
       "      <th>0</th>\n",
       "      <td>pali</td>\n",
       "      <td>0</td>\n",
       "      <td>IN</td>\n",
       "      <td>1683588048</td>\n",
       "      <td>14</td>\n",
       "      <td>25.7667</td>\n",
       "      <td>73.3333</td>\n",
       "      <td>84.11</td>\n",
       "      <td>6.15</td>\n",
       "    </tr>\n",
       "    <tr>\n",
       "      <th>1</th>\n",
       "      <td>northam</td>\n",
       "      <td>100</td>\n",
       "      <td>GB</td>\n",
       "      <td>1683588002</td>\n",
       "      <td>98</td>\n",
       "      <td>51.0333</td>\n",
       "      <td>-4.2167</td>\n",
       "      <td>54.61</td>\n",
       "      <td>7.85</td>\n",
       "    </tr>\n",
       "    <tr>\n",
       "      <th>2</th>\n",
       "      <td>adamstown</td>\n",
       "      <td>100</td>\n",
       "      <td>PN</td>\n",
       "      <td>1683588048</td>\n",
       "      <td>56</td>\n",
       "      <td>-25.0660</td>\n",
       "      <td>-130.1015</td>\n",
       "      <td>70.84</td>\n",
       "      <td>13.29</td>\n",
       "    </tr>\n",
       "    <tr>\n",
       "      <th>3</th>\n",
       "      <td>ushuaia</td>\n",
       "      <td>75</td>\n",
       "      <td>AR</td>\n",
       "      <td>1683588048</td>\n",
       "      <td>57</td>\n",
       "      <td>-54.8000</td>\n",
       "      <td>-68.3000</td>\n",
       "      <td>47.86</td>\n",
       "      <td>13.80</td>\n",
       "    </tr>\n",
       "    <tr>\n",
       "      <th>4</th>\n",
       "      <td>todos santos</td>\n",
       "      <td>12</td>\n",
       "      <td>MX</td>\n",
       "      <td>1683588049</td>\n",
       "      <td>68</td>\n",
       "      <td>23.4500</td>\n",
       "      <td>-110.2167</td>\n",
       "      <td>72.45</td>\n",
       "      <td>10.85</td>\n",
       "    </tr>\n",
       "  </tbody>\n",
       "</table>\n",
       "</div>"
      ],
      "text/plain": [
       "           City  Cloudiness Country        Date  Humidity      Lat       Lng  \\\n",
       "0          pali           0      IN  1683588048        14  25.7667   73.3333   \n",
       "1       northam         100      GB  1683588002        98  51.0333   -4.2167   \n",
       "2     adamstown         100      PN  1683588048        56 -25.0660 -130.1015   \n",
       "3       ushuaia          75      AR  1683588048        57 -54.8000  -68.3000   \n",
       "4  todos santos          12      MX  1683588049        68  23.4500 -110.2167   \n",
       "\n",
       "   Max Temp  Wind Speed  \n",
       "0     84.11        6.15  \n",
       "1     54.61        7.85  \n",
       "2     70.84       13.29  \n",
       "3     47.86       13.80  \n",
       "4     72.45       10.85  "
      ]
     },
     "execution_count": 5,
     "metadata": {},
     "output_type": "execute_result"
    }
   ],
   "source": [
    "# Display sample data\n",
    "city_data_df.head()"
   ]
  },
  {
   "cell_type": "code",
   "execution_count": 6,
   "metadata": {},
   "outputs": [],
   "source": [
    "# Export the City_Data into a csv\n",
    "city_data_df.to_csv(\"../output_data/cities.csv\", index_label=\"City_ID\")"
   ]
  },
  {
   "cell_type": "code",
   "execution_count": 7,
   "metadata": {},
   "outputs": [
    {
     "data": {
      "text/html": [
       "<div>\n",
       "<style scoped>\n",
       "    .dataframe tbody tr th:only-of-type {\n",
       "        vertical-align: middle;\n",
       "    }\n",
       "\n",
       "    .dataframe tbody tr th {\n",
       "        vertical-align: top;\n",
       "    }\n",
       "\n",
       "    .dataframe thead th {\n",
       "        text-align: right;\n",
       "    }\n",
       "</style>\n",
       "<table border=\"1\" class=\"dataframe\">\n",
       "  <thead>\n",
       "    <tr style=\"text-align: right;\">\n",
       "      <th></th>\n",
       "      <th>City</th>\n",
       "      <th>Cloudiness</th>\n",
       "      <th>Country</th>\n",
       "      <th>Date</th>\n",
       "      <th>Humidity</th>\n",
       "      <th>Lat</th>\n",
       "      <th>Lng</th>\n",
       "      <th>Max Temp</th>\n",
       "      <th>Wind Speed</th>\n",
       "    </tr>\n",
       "    <tr>\n",
       "      <th>City_ID</th>\n",
       "      <th></th>\n",
       "      <th></th>\n",
       "      <th></th>\n",
       "      <th></th>\n",
       "      <th></th>\n",
       "      <th></th>\n",
       "      <th></th>\n",
       "      <th></th>\n",
       "      <th></th>\n",
       "    </tr>\n",
       "  </thead>\n",
       "  <tbody>\n",
       "    <tr>\n",
       "      <th>0</th>\n",
       "      <td>pali</td>\n",
       "      <td>0</td>\n",
       "      <td>IN</td>\n",
       "      <td>1683588048</td>\n",
       "      <td>14</td>\n",
       "      <td>25.7667</td>\n",
       "      <td>73.3333</td>\n",
       "      <td>84.11</td>\n",
       "      <td>6.15</td>\n",
       "    </tr>\n",
       "    <tr>\n",
       "      <th>1</th>\n",
       "      <td>northam</td>\n",
       "      <td>100</td>\n",
       "      <td>GB</td>\n",
       "      <td>1683588002</td>\n",
       "      <td>98</td>\n",
       "      <td>51.0333</td>\n",
       "      <td>-4.2167</td>\n",
       "      <td>54.61</td>\n",
       "      <td>7.85</td>\n",
       "    </tr>\n",
       "    <tr>\n",
       "      <th>2</th>\n",
       "      <td>adamstown</td>\n",
       "      <td>100</td>\n",
       "      <td>PN</td>\n",
       "      <td>1683588048</td>\n",
       "      <td>56</td>\n",
       "      <td>-25.0660</td>\n",
       "      <td>-130.1015</td>\n",
       "      <td>70.84</td>\n",
       "      <td>13.29</td>\n",
       "    </tr>\n",
       "    <tr>\n",
       "      <th>3</th>\n",
       "      <td>ushuaia</td>\n",
       "      <td>75</td>\n",
       "      <td>AR</td>\n",
       "      <td>1683588048</td>\n",
       "      <td>57</td>\n",
       "      <td>-54.8000</td>\n",
       "      <td>-68.3000</td>\n",
       "      <td>47.86</td>\n",
       "      <td>13.80</td>\n",
       "    </tr>\n",
       "    <tr>\n",
       "      <th>4</th>\n",
       "      <td>todos santos</td>\n",
       "      <td>12</td>\n",
       "      <td>MX</td>\n",
       "      <td>1683588049</td>\n",
       "      <td>68</td>\n",
       "      <td>23.4500</td>\n",
       "      <td>-110.2167</td>\n",
       "      <td>72.45</td>\n",
       "      <td>10.85</td>\n",
       "    </tr>\n",
       "  </tbody>\n",
       "</table>\n",
       "</div>"
      ],
      "text/plain": [
       "                 City  Cloudiness Country        Date  Humidity      Lat  \\\n",
       "City_ID                                                                    \n",
       "0                pali           0      IN  1683588048        14  25.7667   \n",
       "1             northam         100      GB  1683588002        98  51.0333   \n",
       "2           adamstown         100      PN  1683588048        56 -25.0660   \n",
       "3             ushuaia          75      AR  1683588048        57 -54.8000   \n",
       "4        todos santos          12      MX  1683588049        68  23.4500   \n",
       "\n",
       "              Lng  Max Temp  Wind Speed  \n",
       "City_ID                                  \n",
       "0         73.3333     84.11        6.15  \n",
       "1         -4.2167     54.61        7.85  \n",
       "2       -130.1015     70.84       13.29  \n",
       "3        -68.3000     47.86       13.80  \n",
       "4       -110.2167     72.45       10.85  "
      ]
     },
     "execution_count": 7,
     "metadata": {},
     "output_type": "execute_result"
    }
   ],
   "source": [
    "# Read saved data\n",
    "city_data_df = pd.read_csv(\"../output_data/cities.csv\", index_col=\"City_ID\")\n",
    "\n",
    "# Display sample data\n",
    "city_data_df.head()\n"
   ]
  },
  {
   "cell_type": "markdown",
   "metadata": {},
   "source": [
    "### Create the Scatter Plots Requested\n",
    "\n",
    "#### Latitude Vs. Temperature"
   ]
  },
  {
   "cell_type": "code",
   "execution_count": 8,
   "metadata": {
    "tags": []
   },
   "outputs": [
    {
     "data": {
      "image/png": "[encoded data removed]",
      "text/plain": [
       "<Figure size 432x288 with 1 Axes>"
      ]
     },
     "metadata": {
      "needs_background": "light"
     },
     "output_type": "display_data"
    }
   ],
   "source": [
    "# Build scatter plot for latitude vs. temperature\n",
    "# YOUR CODE HERE\n",
    "latit_vs_Temp_axes = city_data_df.plot(kind=\"scatter\", x=\"Lat\", y=\"Max Temp\", \n",
    "                                      title=\"Maximum Temperature (F) vs. City Latitude\")\n",
    "\n",
    "latit_vs_Temp_axes.get_figure().savefig(\"../output_data/Temp_vs_Latitude_All_Cities.png\")\n",
    "# Incorporate the other graph properties\n",
    "# YOUR CODE HERE\n",
    "\n",
    "# Save the figure\n",
    "plt.savefig(\"../output_data/Fig1.png\")\n",
    "\n",
    "# Show plot\n",
    "plt.show()"
   ]
  },
  {
   "cell_type": "markdown",
   "metadata": {},
   "source": [
    "#### Latitude Vs. Humidity"
   ]
  },
  {
   "cell_type": "code",
   "execution_count": 9,
   "metadata": {},
   "outputs": [
    {
     "data": {
      "image/png": "[encoded data removed]",
      "text/plain": [
       "<Figure size 432x288 with 1 Axes>"
      ]
     },
     "metadata": {
      "needs_background": "light"
     },
     "output_type": "display_data"
    }
   ],
   "source": [
    "# Build the scatter plots for latitude vs. humidity\n",
    "# YOUR CODE HERE\n",
    "latit_vs_Hum_axes = city_data_df.plot(kind=\"scatter\", x=\"Lat\", y=\"Humidity\", \n",
    "                                      title=\"Humidity  vs. City Latitude\")\n",
    "\n",
    "latit_vs_Hum_axes.get_figure().savefig(\"../output_data/Temp_vs_Humidity_All_Cities.png\")\n",
    "# Incorporate the other graph properties\n",
    "# YOUR CODE HERE\n",
    "\n",
    "# Save the figure\n",
    "plt.savefig(\"../output_data/Fig2.png\")\n",
    "\n",
    "# Show plot\n",
    "plt.show()"
   ]
  },
  {
   "cell_type": "markdown",
   "metadata": {},
   "source": [
    "#### Latitude Vs. Cloudiness"
   ]
  },
  {
   "cell_type": "code",
   "execution_count": 10,
   "metadata": {},
   "outputs": [
    {
     "data": {
      "image/png": "[encoded data removed]",
      "text/plain": [
       "<Figure size 432x288 with 1 Axes>"
      ]
     },
     "metadata": {
      "needs_background": "light"
     },
     "output_type": "display_data"
    }
   ],
   "source": [
    "# Build the scatter plots for latitude vs. cloudiness\n",
    "# YOUR CODE HERE\n",
    "latit_vs_Cloudiness_axes = city_data_df.plot(kind=\"scatter\", x=\"Lat\", y=\"Cloudiness\", \n",
    "                                      title=\"Cloudiness vs. City Latitude\")\n",
    "\n",
    "latit_vs_Hum_axes.get_figure().savefig(\"../output_data/Lat_vs_Cloudiness_All_Cities.png\")\n",
    "# Incorporate the other graph properties\n",
    "# YOUR CODE HERE\n",
    "\n",
    "# Save the figure\n",
    "plt.savefig(\"../output_data/Fig3.png\")\n",
    "\n",
    "# Show plot\n",
    "plt.show()"
   ]
  },
  {
   "cell_type": "markdown",
   "metadata": {},
   "source": [
    "#### Latitude vs. Wind Speed Plot"
   ]
  },
  {
   "cell_type": "code",
   "execution_count": 11,
   "metadata": {},
   "outputs": [
    {
     "data": {
      "image/png": "[encoded data removed]",
      "text/plain": [
       "<Figure size 432x288 with 1 Axes>"
      ]
     },
     "metadata": {
      "needs_background": "light"
     },
     "output_type": "display_data"
    }
   ],
   "source": [
    "# Build the scatter plots for latitude vs. wind speed\n",
    "# YOUR CODE HERE\n",
    "latit_vs_wind_axes = city_data_df.plot(kind=\"scatter\", x=\"Lat\", y=\"Wind Speed\", \n",
    "                                      title=\"Wind Speed vs. City Latitude\")\n",
    "\n",
    "latit_vs_Hum_axes.get_figure().savefig(\"../output_data/Lat_vs_Wind_All_Cities.png\")\n",
    "# Incorporate the other graph properties\n",
    "# YOUR CODE HERE\n",
    "\n",
    "# Save the figure\n",
    "plt.savefig(\"../output_data/Fig4.png\")\n",
    "\n",
    "# Show plot\n",
    "plt.show()"
   ]
  },
  {
   "cell_type": "markdown",
   "metadata": {},
   "source": [
    "---\n",
    "\n",
    "## Requirement 2: Compute Linear Regression for Each Relationship\n"
   ]
  },
  {
   "cell_type": "code",
   "execution_count": 12,
   "metadata": {},
   "outputs": [],
   "source": [
    "# Define a function to create Linear Regression plots\n",
    "# YOUR CODE HERE\n",
    "\n",
    "def createLinearRegressionPlot(x_values, y_values, x_label, y_label, hemisphere, line_placement, ylim=None):\n",
    "    (slope, intercept, rvalue, pvalue, stderr) = stats.linregress(x_values, y_values)\n",
    "    regress_values = x_values * slope + intercept\n",
    "    line_eq = \"y = \" + str(round(slope,2)) + \"x +\" + str(round(intercept,2))\n",
    "    \n",
    "    \n",
    "    plt.scatter(x_values, y_values)\n",
    "    plt.xlabel(x_label)\n",
    "    plt.ylabel(y_label)\n",
    "    if ylim is not None:\n",
    "        plt.ylim(0, ylim)\n",
    "    plt.title(f\"{hemisphere} Hemisphere - {x_label} vs {y_label}\")\n",
    "    plt.annotate(line_eq,line_placement,fontsize=15,color=\"red\")\n",
    "    \n",
    "    print(f\"The r-squared is: {rvalue**2}\")\n",
    "    correlation = stats.pearsonr(x_values, y_values)\n",
    "    print(f\"The correlation between both factors is {round(correlation[0],2)}\")\n",
    "    return plt.plot(x_values,regress_values,\"r-\")"
   ]
  },
  {
   "cell_type": "code",
   "execution_count": 27,
   "metadata": {},
   "outputs": [
    {
     "data": {
      "text/html": [
       "<div>\n",
       "<style scoped>\n",
       "    .dataframe tbody tr th:only-of-type {\n",
       "        vertical-align: middle;\n",
       "    }\n",
       "\n",
       "    .dataframe tbody tr th {\n",
       "        vertical-align: top;\n",
       "    }\n",
       "\n",
       "    .dataframe thead th {\n",
       "        text-align: right;\n",
       "    }\n",
       "</style>\n",
       "<table border=\"1\" class=\"dataframe\">\n",
       "  <thead>\n",
       "    <tr style=\"text-align: right;\">\n",
       "      <th></th>\n",
       "      <th>City</th>\n",
       "      <th>Cloudiness</th>\n",
       "      <th>Country</th>\n",
       "      <th>Date</th>\n",
       "      <th>Humidity</th>\n",
       "      <th>Lat</th>\n",
       "      <th>Lng</th>\n",
       "      <th>Max Temp</th>\n",
       "      <th>Wind Speed</th>\n",
       "    </tr>\n",
       "    <tr>\n",
       "      <th>City_ID</th>\n",
       "      <th></th>\n",
       "      <th></th>\n",
       "      <th></th>\n",
       "      <th></th>\n",
       "      <th></th>\n",
       "      <th></th>\n",
       "      <th></th>\n",
       "      <th></th>\n",
       "      <th></th>\n",
       "    </tr>\n",
       "  </thead>\n",
       "  <tbody>\n",
       "    <tr>\n",
       "      <th>0</th>\n",
       "      <td>pali</td>\n",
       "      <td>0</td>\n",
       "      <td>IN</td>\n",
       "      <td>1683588048</td>\n",
       "      <td>14</td>\n",
       "      <td>25.7667</td>\n",
       "      <td>73.3333</td>\n",
       "      <td>84.11</td>\n",
       "      <td>6.15</td>\n",
       "    </tr>\n",
       "    <tr>\n",
       "      <th>1</th>\n",
       "      <td>northam</td>\n",
       "      <td>100</td>\n",
       "      <td>GB</td>\n",
       "      <td>1683588002</td>\n",
       "      <td>98</td>\n",
       "      <td>51.0333</td>\n",
       "      <td>-4.2167</td>\n",
       "      <td>54.61</td>\n",
       "      <td>7.85</td>\n",
       "    </tr>\n",
       "    <tr>\n",
       "      <th>4</th>\n",
       "      <td>todos santos</td>\n",
       "      <td>12</td>\n",
       "      <td>MX</td>\n",
       "      <td>1683588049</td>\n",
       "      <td>68</td>\n",
       "      <td>23.4500</td>\n",
       "      <td>-110.2167</td>\n",
       "      <td>72.45</td>\n",
       "      <td>10.85</td>\n",
       "    </tr>\n",
       "    <tr>\n",
       "      <th>7</th>\n",
       "      <td>newman</td>\n",
       "      <td>16</td>\n",
       "      <td>US</td>\n",
       "      <td>1683588044</td>\n",
       "      <td>47</td>\n",
       "      <td>37.3138</td>\n",
       "      <td>-121.0208</td>\n",
       "      <td>77.34</td>\n",
       "      <td>3.91</td>\n",
       "    </tr>\n",
       "    <tr>\n",
       "      <th>8</th>\n",
       "      <td>happy valley-goose bay</td>\n",
       "      <td>75</td>\n",
       "      <td>CA</td>\n",
       "      <td>1683587964</td>\n",
       "      <td>60</td>\n",
       "      <td>53.3168</td>\n",
       "      <td>-60.3315</td>\n",
       "      <td>37.71</td>\n",
       "      <td>16.11</td>\n",
       "    </tr>\n",
       "  </tbody>\n",
       "</table>\n",
       "</div>"
      ],
      "text/plain": [
       "                           City  Cloudiness Country        Date  Humidity  \\\n",
       "City_ID                                                                     \n",
       "0                          pali           0      IN  1683588048        14   \n",
       "1                       northam         100      GB  1683588002        98   \n",
       "4                  todos santos          12      MX  1683588049        68   \n",
       "7                        newman          16      US  1683588044        47   \n",
       "8        happy valley-goose bay          75      CA  1683587964        60   \n",
       "\n",
       "             Lat       Lng  Max Temp  Wind Speed  \n",
       "City_ID                                           \n",
       "0        25.7667   73.3333     84.11        6.15  \n",
       "1        51.0333   -4.2167     54.61        7.85  \n",
       "4        23.4500 -110.2167     72.45       10.85  \n",
       "7        37.3138 -121.0208     77.34        3.91  \n",
       "8        53.3168  -60.3315     37.71       16.11  "
      ]
     },
     "execution_count": 27,
     "metadata": {},
     "output_type": "execute_result"
    }
   ],
   "source": [
    "# Create a DataFrame with the Northern Hemisphere data (Latitude >= 0)\n",
    "# YOUR CODE HERE\n",
    "northern_hemi_df = city_data_df.loc[city_data_df[\"Lat\"] >= 0]\n",
    "\n",
    "# Display sample data\n",
    "northern_hemi_df.head()\n"
   ]
  },
  {
   "cell_type": "code",
   "execution_count": 28,
   "metadata": {},
   "outputs": [
    {
     "data": {
      "text/html": [
       "<div>\n",
       "<style scoped>\n",
       "    .dataframe tbody tr th:only-of-type {\n",
       "        vertical-align: middle;\n",
       "    }\n",
       "\n",
       "    .dataframe tbody tr th {\n",
       "        vertical-align: top;\n",
       "    }\n",
       "\n",
       "    .dataframe thead th {\n",
       "        text-align: right;\n",
       "    }\n",
       "</style>\n",
       "<table border=\"1\" class=\"dataframe\">\n",
       "  <thead>\n",
       "    <tr style=\"text-align: right;\">\n",
       "      <th></th>\n",
       "      <th>City</th>\n",
       "      <th>Cloudiness</th>\n",
       "      <th>Country</th>\n",
       "      <th>Date</th>\n",
       "      <th>Humidity</th>\n",
       "      <th>Lat</th>\n",
       "      <th>Lng</th>\n",
       "      <th>Max Temp</th>\n",
       "      <th>Wind Speed</th>\n",
       "    </tr>\n",
       "    <tr>\n",
       "      <th>City_ID</th>\n",
       "      <th></th>\n",
       "      <th></th>\n",
       "      <th></th>\n",
       "      <th></th>\n",
       "      <th></th>\n",
       "      <th></th>\n",
       "      <th></th>\n",
       "      <th></th>\n",
       "      <th></th>\n",
       "    </tr>\n",
       "  </thead>\n",
       "  <tbody>\n",
       "    <tr>\n",
       "      <th>2</th>\n",
       "      <td>adamstown</td>\n",
       "      <td>100</td>\n",
       "      <td>PN</td>\n",
       "      <td>1683588048</td>\n",
       "      <td>56</td>\n",
       "      <td>-25.0660</td>\n",
       "      <td>-130.1015</td>\n",
       "      <td>70.84</td>\n",
       "      <td>13.29</td>\n",
       "    </tr>\n",
       "    <tr>\n",
       "      <th>3</th>\n",
       "      <td>ushuaia</td>\n",
       "      <td>75</td>\n",
       "      <td>AR</td>\n",
       "      <td>1683588048</td>\n",
       "      <td>57</td>\n",
       "      <td>-54.8000</td>\n",
       "      <td>-68.3000</td>\n",
       "      <td>47.86</td>\n",
       "      <td>13.80</td>\n",
       "    </tr>\n",
       "    <tr>\n",
       "      <th>5</th>\n",
       "      <td>waitangi</td>\n",
       "      <td>100</td>\n",
       "      <td>NZ</td>\n",
       "      <td>1683587913</td>\n",
       "      <td>95</td>\n",
       "      <td>-43.9535</td>\n",
       "      <td>-176.5597</td>\n",
       "      <td>60.82</td>\n",
       "      <td>8.99</td>\n",
       "    </tr>\n",
       "    <tr>\n",
       "      <th>6</th>\n",
       "      <td>blackmans bay</td>\n",
       "      <td>93</td>\n",
       "      <td>AU</td>\n",
       "      <td>1683588049</td>\n",
       "      <td>69</td>\n",
       "      <td>-43.0167</td>\n",
       "      <td>147.3167</td>\n",
       "      <td>56.73</td>\n",
       "      <td>13.80</td>\n",
       "    </tr>\n",
       "    <tr>\n",
       "      <th>9</th>\n",
       "      <td>port lincoln</td>\n",
       "      <td>31</td>\n",
       "      <td>AU</td>\n",
       "      <td>1683588049</td>\n",
       "      <td>76</td>\n",
       "      <td>-34.7333</td>\n",
       "      <td>135.8667</td>\n",
       "      <td>57.70</td>\n",
       "      <td>5.10</td>\n",
       "    </tr>\n",
       "  </tbody>\n",
       "</table>\n",
       "</div>"
      ],
      "text/plain": [
       "                  City  Cloudiness Country        Date  Humidity      Lat  \\\n",
       "City_ID                                                                     \n",
       "2            adamstown         100      PN  1683588048        56 -25.0660   \n",
       "3              ushuaia          75      AR  1683588048        57 -54.8000   \n",
       "5             waitangi         100      NZ  1683587913        95 -43.9535   \n",
       "6        blackmans bay          93      AU  1683588049        69 -43.0167   \n",
       "9         port lincoln          31      AU  1683588049        76 -34.7333   \n",
       "\n",
       "              Lng  Max Temp  Wind Speed  \n",
       "City_ID                                  \n",
       "2       -130.1015     70.84       13.29  \n",
       "3        -68.3000     47.86       13.80  \n",
       "5       -176.5597     60.82        8.99  \n",
       "6        147.3167     56.73       13.80  \n",
       "9        135.8667     57.70        5.10  "
      ]
     },
     "execution_count": 28,
     "metadata": {},
     "output_type": "execute_result"
    }
   ],
   "source": [
    "# Create a DataFrame with the Southern Hemisphere data (Latitude < 0)\n",
    "# YOUR CODE HERE\n",
    "southern_hemi_df = city_data_df.loc[city_data_df[\"Lat\"] < 0]\n",
    "# Display sample data\n",
    "southern_hemi_df.head()"
   ]
  },
  {
   "cell_type": "markdown",
   "metadata": {},
   "source": [
    "###  Temperature vs. Latitude Linear Regression Plot"
   ]
  },
  {
   "cell_type": "code",
   "execution_count": 45,
   "metadata": {},
   "outputs": [
    {
     "name": "stdout",
     "output_type": "stream",
     "text": [
      "The r-squared is: 0.7009193762211541\n",
      "The correlation between both factors is -0.84\n"
     ]
    },
    {
     "data": {
      "text/plain": [
       "[<matplotlib.lines.Line2D at 0x222a6c25f28>]"
      ]
     },
     "execution_count": 45,
     "metadata": {},
     "output_type": "execute_result"
    },
    {
     "data": {
      "image/png": "[encoded data removed]",
      "text/plain": [
       "<Figure size 432x288 with 1 Axes>"
      ]
     },
     "metadata": {
      "needs_background": "light"
     },
     "output_type": "display_data"
    }
   ],
   "source": [
    "# Linear regression on Northern Hemisphere\n",
    "# YOUR CODE HERE\n",
    "x_values = northern_hemi_df[\"Lat\"]\n",
    "y_values = northern_hemi_df[\"Max Temp\"]\n",
    "createLinearRegressionPlot(x_values, y_values, \"Lat\", \"Max Temp (F)\", \"Northern\",(40, 20))"
   ]
  },
  {
   "cell_type": "code",
   "execution_count": 46,
   "metadata": {},
   "outputs": [
    {
     "name": "stdout",
     "output_type": "stream",
     "text": [
      "The r-squared is: 0.5994967246394721\n",
      "The correlation between both factors is 0.77\n"
     ]
    },
    {
     "data": {
      "text/plain": [
       "[<matplotlib.lines.Line2D at 0x222a6aa5dd8>]"
      ]
     },
     "execution_count": 46,
     "metadata": {},
     "output_type": "execute_result"
    },
    {
     "data": {
      "image/png": "[encoded data removed]",
      "text/plain": [
       "<Figure size 432x288 with 1 Axes>"
      ]
     },
     "metadata": {
      "needs_background": "light"
     },
     "output_type": "display_data"
    }
   ],
   "source": [
    "# Linear regression on Southern Hemisphere\n",
    "# YOUR CODE HERE\n",
    "x_values = southern_hemi_df[\"Lat\"]\n",
    "y_values = southern_hemi_df[\"Max Temp\"]\n",
    "createLinearRegressionPlot(x_values, y_values, \"Lat\", \"Max Temp (F)\", \"Southern\",(-30, 50))"
   ]
  },
  {
   "cell_type": "markdown",
   "metadata": {},
   "source": [
    "**Discussion about the linear relationship:** YOUR RESPONSE HERE\n",
    "The Northern hemisphere has a negative correlation with the the maximum temperature whereas in the Southern hemosphere there is a positive correlation with maximum temperature "
   ]
  },
  {
   "cell_type": "markdown",
   "metadata": {},
   "source": [
    "### Humidity vs. Latitude Linear Regression Plot"
   ]
  },
  {
   "cell_type": "code",
   "execution_count": 38,
   "metadata": {},
   "outputs": [
    {
     "name": "stdout",
     "output_type": "stream",
     "text": [
      "The r-squared is: 0.002781686489055418\n",
      "The correlation between both factors is 0.05\n"
     ]
    },
    {
     "data": {
      "text/plain": [
       "[<matplotlib.lines.Line2D at 0x222a6914470>]"
      ]
     },
     "execution_count": 38,
     "metadata": {},
     "output_type": "execute_result"
    },
    {
     "data": {
      "image/png": "[encoded data removed]",
      "text/plain": [
       "<Figure size 432x288 with 1 Axes>"
      ]
     },
     "metadata": {
      "needs_background": "light"
     },
     "output_type": "display_data"
    }
   ],
   "source": [
    "# Northern Hemisphere\n",
    "# YOUR CODE HERE\n",
    "x_values = northern_hemi_df['Lat']\n",
    "y_values = northern_hemi_df['Humidity']\n",
    "createLinearRegressionPlot(x_values, y_values, \"Latitude\", \"Humidity (%)\", \"Northern\",(40, 20))"
   ]
  },
  {
   "cell_type": "code",
   "execution_count": 50,
   "metadata": {},
   "outputs": [
    {
     "name": "stdout",
     "output_type": "stream",
     "text": [
      "The r-squared is: 0.008010159680846783\n",
      "The correlation between both factors is 0.09\n"
     ]
    },
    {
     "data": {
      "text/plain": [
       "[<matplotlib.lines.Line2D at 0x222a6870438>]"
      ]
     },
     "execution_count": 50,
     "metadata": {},
     "output_type": "execute_result"
    },
    {
     "data": {
      "image/png": "[encoded data removed]",
      "text/plain": [
       "<Figure size 432x288 with 1 Axes>"
      ]
     },
     "metadata": {
      "needs_background": "light"
     },
     "output_type": "display_data"
    }
   ],
   "source": [
    "# Southern Hemisphere\n",
    "# YOUR CODE HERE\n",
    "x_values = southern_hemi_df['Lat']\n",
    "y_values = southern_hemi_df['Humidity']\n",
    "createLinearRegressionPlot(x_values, y_values, \"Latitude\", \"Humidity (%)\", \"Northern\",(-30, 50))"
   ]
  },
  {
   "cell_type": "markdown",
   "metadata": {},
   "source": [
    "**Discussion about the linear relationship:** YOUR RESPONSE HERE\n",
    "There is no correlation between humidity and maximum temperature in Northern or Southern Hemisphere"
   ]
  },
  {
   "cell_type": "markdown",
   "metadata": {},
   "source": [
    "### Cloudiness vs. Latitude Linear Regression Plot"
   ]
  },
  {
   "cell_type": "code",
   "execution_count": 53,
   "metadata": {
    "scrolled": false
   },
   "outputs": [
    {
     "name": "stdout",
     "output_type": "stream",
     "text": [
      "The r-squared is: 0.005178301338383147\n",
      "The correlation between both factors is 0.07\n"
     ]
    },
    {
     "data": {
      "text/plain": [
       "[<matplotlib.lines.Line2D at 0x222a6ff0080>]"
      ]
     },
     "execution_count": 53,
     "metadata": {},
     "output_type": "execute_result"
    },
    {
     "data": {
      "image/png": "[encoded data removed]",
      "text/plain": [
       "<Figure size 432x288 with 1 Axes>"
      ]
     },
     "metadata": {
      "needs_background": "light"
     },
     "output_type": "display_data"
    }
   ],
   "source": [
    "# Northern Hemisphere\n",
    "# YOUR CODE HERE\n",
    "x_values = northern_hemi_df['Lat']\n",
    "y_values = northern_hemi_df['Cloudiness']\n",
    "createLinearRegressionPlot(x_values, y_values, \"Latitude\", \"Cloudiness(%)\", \"Northern\",(40, 20))"
   ]
  },
  {
   "cell_type": "code",
   "execution_count": 52,
   "metadata": {},
   "outputs": [
    {
     "name": "stdout",
     "output_type": "stream",
     "text": [
      "The r-squared is: 0.006149937767688946\n",
      "The correlation between both factors is -0.08\n"
     ]
    },
    {
     "data": {
      "text/plain": [
       "[<matplotlib.lines.Line2D at 0x222a6e728d0>]"
      ]
     },
     "execution_count": 52,
     "metadata": {},
     "output_type": "execute_result"
    },
    {
     "data": {
      "image/png": "[encoded data removed]",
      "text/plain": [
       "<Figure size 432x288 with 1 Axes>"
      ]
     },
     "metadata": {
      "needs_background": "light"
     },
     "output_type": "display_data"
    }
   ],
   "source": [
    "# Southern Hemisphere\n",
    "# YOUR CODE HERE\n",
    "x_values = southern_hemi_df['Lat']\n",
    "y_values = southern_hemi_df['Cloudiness']\n",
    "createLinearRegressionPlot(x_values, y_values, \"Latitude\", \"Cloudiness(%)\", \"Northern\",(-30, 50))"
   ]
  },
  {
   "cell_type": "markdown",
   "metadata": {},
   "source": [
    "**Discussion about the linear relationship:** YOUR RESPONSE HERE\n",
    "There no correlation between Cloudiness and maximum temperature in Northern or Southern Hemisphere. Perhaps a slight positive correlation for Northern hemisphere and a slight negative correlation for Southern Hemisphere."
   ]
  },
  {
   "cell_type": "markdown",
   "metadata": {},
   "source": [
    "### Wind Speed vs. Latitude Linear Regression Plot"
   ]
  },
  {
   "cell_type": "code",
   "execution_count": 55,
   "metadata": {},
   "outputs": [
    {
     "name": "stdout",
     "output_type": "stream",
     "text": [
      "The r-squared is: 0.00207890326517062\n",
      "The correlation between both factors is 0.05\n"
     ]
    },
    {
     "data": {
      "text/plain": [
       "[<matplotlib.lines.Line2D at 0x222a6699860>]"
      ]
     },
     "execution_count": 55,
     "metadata": {},
     "output_type": "execute_result"
    },
    {
     "data": {
      "image/png": "[encoded data removed]",
      "text/plain": [
       "<Figure size 432x288 with 1 Axes>"
      ]
     },
     "metadata": {
      "needs_background": "light"
     },
     "output_type": "display_data"
    }
   ],
   "source": [
    "# Northern Hemisphere\n",
    "# YOUR CODE HERE\n",
    "x_values = northern_hemi_df['Lat']\n",
    "y_values = northern_hemi_df['Wind Speed']\n",
    "createLinearRegressionPlot(x_values, y_values, \"Latitude\", \"Wind Speed\", \"Northern\",(40, 20))"
   ]
  },
  {
   "cell_type": "code",
   "execution_count": 56,
   "metadata": {},
   "outputs": [
    {
     "name": "stdout",
     "output_type": "stream",
     "text": [
      "The r-squared is: 0.027642039390237565\n",
      "The correlation between both factors is -0.17\n"
     ]
    },
    {
     "data": {
      "text/plain": [
       "[<matplotlib.lines.Line2D at 0x222a728c9b0>]"
      ]
     },
     "execution_count": 56,
     "metadata": {},
     "output_type": "execute_result"
    },
    {
     "data": {
      "image/png": "[encoded data removed]",
      "text/plain": [
       "<Figure size 432x288 with 1 Axes>"
      ]
     },
     "metadata": {
      "needs_background": "light"
     },
     "output_type": "display_data"
    }
   ],
   "source": [
    "# Southern Hemisphere\n",
    "# YOUR CODE HERE\n",
    "x_values = southern_hemi_df['Lat']\n",
    "y_values = southern_hemi_df['Wind Speed']\n",
    "createLinearRegressionPlot(x_values, y_values, \"Latitude\", \"Wind Speed\", \"Souththern\",(-40, 25))"
   ]
  },
  {
   "cell_type": "markdown",
   "metadata": {},
   "source": [
    "**Discussion about the linear relationship:** YOUR RESPONSE HERE"
   ]
  },
  {
   "cell_type": "code",
   "execution_count": null,
   "metadata": {},
   "outputs": [],
   "source": [
    "There is no correlation between wind speed and maximum temperature in Northern or Southern Hemisphere"
   ]
  }
 ],
 "metadata": {
  "anaconda-cloud": {},
  "kernel_info": {
   "name": "python3"
  },
  "kernelspec": {
   "display_name": "Python 3",
   "language": "python",
   "name": "python3"
  },
  "language_info": {
   "codemirror_mode": {
    "name": "ipython",
    "version": 3
   },
   "file_extension": ".py",
   "mimetype": "text/x-python",
   "name": "python",
   "nbconvert_exporter": "python",
   "pygments_lexer": "ipython3",
   "version": "3.7.1"
  },
  "latex_envs": {
   "LaTeX_envs_menu_present": true,
   "autoclose": false,
   "autocomplete": true,
   "bibliofile": "biblio.bib",
   "cite_by": "apalike",
   "current_citInitial": 1,
   "eqLabelWithNumbers": true,
   "eqNumInitial": 1,
   "hotkeys": {
    "equation": "Ctrl-E",
    "itemize": "Ctrl-I"
   },
   "labels_anchors": false,
   "latex_user_defs": false,
   "report_style_numbering": false,
   "user_envs_cfg": false
  },
  "nteract": {
   "version": "0.12.3"
  }
 },
 "nbformat": 4,
 "nbformat_minor": 4
}
